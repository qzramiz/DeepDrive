{
 "cells": [
  {
   "cell_type": "code",
   "execution_count": 1,
   "metadata": {},
   "outputs": [
    {
     "name": "stderr",
     "output_type": "stream",
     "text": [
      "Using TensorFlow backend.\n"
     ]
    },
    {
     "name": "stdout",
     "output_type": "stream",
     "text": [
      "Populating the interactive namespace from numpy and matplotlib\n"
     ]
    }
   ],
   "source": [
    "import numpy as np\n",
    "import pandas as pd\n",
    "import os\n",
    "import math\n",
    "import cv2\n",
    "from tqdm import tqdm\n",
    "\n",
    "from keras.utils import Sequence\n",
    "from keras.layers import Input\n",
    "from keras.models import Model, load_model\n",
    "from keras.layers import Flatten, Dense, Activation, Dropout, Reshape\n",
    "from keras.layers import BatchNormalization\n",
    "from keras.layers import Conv3D\n",
    "from keras.optimizers import Adam\n",
    "from keras.callbacks import ModelCheckpoint, EarlyStopping\n",
    "import tensorflow as tf\n",
    "\n",
    "%pylab inline"
   ]
  },
  {
   "cell_type": "markdown",
   "metadata": {},
   "source": [
    "# Loading Complete Data"
   ]
  },
  {
   "cell_type": "code",
   "execution_count": 2,
   "metadata": {},
   "outputs": [
    {
     "name": "stdout",
     "output_type": "stream",
     "text": [
      "432000\n",
      "CPU times: user 2.87 s, sys: 418 ms, total: 3.29 s\n",
      "Wall time: 6.01 s\n"
     ]
    }
   ],
   "source": [
    "%%time\n",
    "initial_path = './images/'\n",
    "X = []\n",
    "for directory in sorted(os.listdir(initial_path)):\n",
    "    path = initial_path + directory + '/Camera/RGB/'\n",
    "    for image in sorted(os.listdir(path)):\n",
    "        X.append(os.path.abspath(path+image))\n",
    "print (len(X))"
   ]
  },
  {
   "cell_type": "markdown",
   "metadata": {},
   "source": [
    "### Reading labels"
   ]
  },
  {
   "cell_type": "code",
   "execution_count": 3,
   "metadata": {
    "scrolled": true
   },
   "outputs": [
    {
     "name": "stdout",
     "output_type": "stream",
     "text": [
      "(432000, 4)\n"
     ]
    },
    {
     "data": {
      "text/html": [
       "<div>\n",
       "<style>\n",
       "    .dataframe thead tr:only-child th {\n",
       "        text-align: right;\n",
       "    }\n",
       "\n",
       "    .dataframe thead th {\n",
       "        text-align: left;\n",
       "    }\n",
       "\n",
       "    .dataframe tbody tr th {\n",
       "        vertical-align: top;\n",
       "    }\n",
       "</style>\n",
       "<table border=\"1\" class=\"dataframe\">\n",
       "  <thead>\n",
       "    <tr style=\"text-align: right;\">\n",
       "      <th></th>\n",
       "      <th>steer</th>\n",
       "      <th>throttle</th>\n",
       "      <th>brake</th>\n",
       "      <th>speed</th>\n",
       "    </tr>\n",
       "  </thead>\n",
       "  <tbody>\n",
       "    <tr>\n",
       "      <th>0</th>\n",
       "      <td>-0.000238</td>\n",
       "      <td>1.0</td>\n",
       "      <td>0.0</td>\n",
       "      <td>0.000000e+00</td>\n",
       "    </tr>\n",
       "    <tr>\n",
       "      <th>1</th>\n",
       "      <td>-0.000239</td>\n",
       "      <td>1.0</td>\n",
       "      <td>0.0</td>\n",
       "      <td>2.548699e-09</td>\n",
       "    </tr>\n",
       "    <tr>\n",
       "      <th>2</th>\n",
       "      <td>-0.000239</td>\n",
       "      <td>1.0</td>\n",
       "      <td>0.0</td>\n",
       "      <td>5.095700e-09</td>\n",
       "    </tr>\n",
       "    <tr>\n",
       "      <th>3</th>\n",
       "      <td>-0.000239</td>\n",
       "      <td>1.0</td>\n",
       "      <td>0.0</td>\n",
       "      <td>7.641002e-09</td>\n",
       "    </tr>\n",
       "    <tr>\n",
       "      <th>4</th>\n",
       "      <td>-0.000239</td>\n",
       "      <td>1.0</td>\n",
       "      <td>0.0</td>\n",
       "      <td>1.018461e-08</td>\n",
       "    </tr>\n",
       "  </tbody>\n",
       "</table>\n",
       "</div>"
      ],
      "text/plain": [
       "      steer  throttle  brake         speed\n",
       "0 -0.000238       1.0    0.0  0.000000e+00\n",
       "1 -0.000239       1.0    0.0  2.548699e-09\n",
       "2 -0.000239       1.0    0.0  5.095700e-09\n",
       "3 -0.000239       1.0    0.0  7.641002e-09\n",
       "4 -0.000239       1.0    0.0  1.018461e-08"
      ]
     },
     "execution_count": 3,
     "metadata": {},
     "output_type": "execute_result"
    }
   ],
   "source": [
    "labels = pd.read_csv(\"target_values.csv\", header=None, names=['frame','steer','throttle','brake','speed'])\n",
    "labels.drop(['frame'],axis=1,inplace=True)\n",
    "print (labels.shape)\n",
    "labels.head()"
   ]
  },
  {
   "cell_type": "markdown",
   "metadata": {},
   "source": [
    "### Reading all the images"
   ]
  },
  {
   "cell_type": "code",
   "execution_count": 5,
   "metadata": {
    "collapsed": true
   },
   "outputs": [],
   "source": [
    "x_train = np.zeros((432000,88,200,3),dtype='uint8')"
   ]
  },
  {
   "cell_type": "code",
   "execution_count": 9,
   "metadata": {},
   "outputs": [
    {
     "name": "stderr",
     "output_type": "stream",
     "text": [
      "100%|██████████| 432000/432000 [13:25<00:00, 536.14it/s]\n"
     ]
    }
   ],
   "source": [
    "# x_train = np.array([ cv2.cvtColor(cv2.imread(x),cv2.COLOR_BGR2RGB)[30:-22,:] for x in tqdm(X)], dtype='uint8')\n",
    "for idx,x in enumerate(tqdm(X)):\n",
    "    x_train[idx] = cv2.cvtColor(cv2.imread(x),cv2.COLOR_BGR2RGB)[30:-22,:]\n",
    "    "
   ]
  },
  {
   "cell_type": "markdown",
   "metadata": {},
   "source": [
    "### Shaping Data For 3D Convs"
   ]
  },
  {
   "cell_type": "code",
   "execution_count": null,
   "metadata": {
    "collapsed": true
   },
   "outputs": [],
   "source": [
    "indexes = np.zeros((batch_size,time),dtype=np.int)\n",
    "for i in range(batch_size):\n",
    "    indexes[i] = np.arange(0+i,time+i)\n",
    "indexes = indexes.flatten()"
   ]
  },
  {
   "cell_type": "code",
   "execution_count": 57,
   "metadata": {
    "collapsed": true
   },
   "outputs": [],
   "source": [
    "model = load_model('init_model_softmax.h5')"
   ]
  },
  {
   "cell_type": "code",
   "execution_count": 2,
   "metadata": {
    "collapsed": true
   },
   "outputs": [],
   "source": [
    "def conv3d_layer(x_input, filters, kernel_size, strides = 1, padding = 'SAME', dropout = 0.0):\n",
    "    conv_out = Conv3D(filters = filters, kernel_size = kernel_size, strides = strides, padding = padding)(x_input)\n",
    "    bn_out = BatchNormalization()(conv_out)\n",
    "#     dropout_out = Dropout(dropout)(bn_out)\n",
    "    return Activation('relu')(bn_out)\n",
    "\n",
    "def Dense_layer(x_input, units, dropout = 0.0):\n",
    "    dense_out = Dense(units = units)(x_input)\n",
    "    bn_out = BatchNormalization()(dense_out)\n",
    "    dropout_out = Dropout(dropout)(bn_out)\n",
    "    return Activation('relu')(dropout_out)"
   ]
  },
  {
   "cell_type": "code",
   "execution_count": 4,
   "metadata": {},
   "outputs": [
    {
     "ename": "ValueError",
     "evalue": "zero-dimensional arrays cannot be concatenated",
     "output_type": "error",
     "traceback": [
      "\u001b[1;31m---------------------------------------------------------------------------\u001b[0m",
      "\u001b[1;31mValueError\u001b[0m                                Traceback (most recent call last)",
      "\u001b[1;32m<ipython-input-4-2187b1717844>\u001b[0m in \u001b[0;36m<module>\u001b[1;34m()\u001b[0m\n\u001b[0;32m     72\u001b[0m \u001b[0minp_rgb\u001b[0m \u001b[1;33m=\u001b[0m \u001b[0mInput\u001b[0m\u001b[1;33m(\u001b[0m\u001b[0mshape\u001b[0m\u001b[1;33m=\u001b[0m\u001b[1;33m(\u001b[0m\u001b[1;36m9\u001b[0m\u001b[1;33m,\u001b[0m\u001b[1;36m88\u001b[0m\u001b[1;33m,\u001b[0m\u001b[1;36m200\u001b[0m\u001b[1;33m,\u001b[0m\u001b[1;36m3\u001b[0m\u001b[1;33m)\u001b[0m\u001b[1;33m,\u001b[0m \u001b[0mname\u001b[0m\u001b[1;33m=\u001b[0m\u001b[1;34m'rgb'\u001b[0m\u001b[1;33m)\u001b[0m\u001b[1;33m\u001b[0m\u001b[0m\n\u001b[0;32m     73\u001b[0m \u001b[0minp_speed\u001b[0m \u001b[1;33m=\u001b[0m \u001b[0mInput\u001b[0m\u001b[1;33m(\u001b[0m\u001b[0mshape\u001b[0m\u001b[1;33m=\u001b[0m\u001b[1;33m(\u001b[0m\u001b[1;36m1\u001b[0m\u001b[1;33m,\u001b[0m\u001b[1;33m)\u001b[0m\u001b[1;33m,\u001b[0m \u001b[0mname\u001b[0m\u001b[1;33m=\u001b[0m \u001b[1;34m'speed'\u001b[0m\u001b[1;33m)\u001b[0m\u001b[1;33m\u001b[0m\u001b[0m\n\u001b[1;32m---> 74\u001b[1;33m \u001b[0msteering\u001b[0m\u001b[1;33m,\u001b[0m\u001b[0mthrottle\u001b[0m\u001b[1;33m,\u001b[0m\u001b[0mbrake\u001b[0m \u001b[1;33m=\u001b[0m \u001b[0mget_Internals\u001b[0m\u001b[1;33m(\u001b[0m\u001b[0minp_rgb\u001b[0m\u001b[1;33m,\u001b[0m\u001b[0minp_speed\u001b[0m\u001b[1;33m)\u001b[0m\u001b[1;33m\u001b[0m\u001b[0m\n\u001b[0m\u001b[0;32m     75\u001b[0m \u001b[1;33m\u001b[0m\u001b[0m\n\u001b[0;32m     76\u001b[0m \u001b[0mmodel\u001b[0m \u001b[1;33m=\u001b[0m \u001b[0mModel\u001b[0m\u001b[1;33m(\u001b[0m\u001b[0minputs\u001b[0m\u001b[1;33m=\u001b[0m\u001b[1;33m[\u001b[0m\u001b[0minp_rgb\u001b[0m\u001b[1;33m,\u001b[0m\u001b[0minp_speed\u001b[0m\u001b[1;33m]\u001b[0m\u001b[1;33m,\u001b[0m \u001b[0moutputs\u001b[0m\u001b[1;33m=\u001b[0m\u001b[1;33m[\u001b[0m\u001b[0msteering\u001b[0m\u001b[1;33m,\u001b[0m\u001b[0mthrottle\u001b[0m\u001b[1;33m,\u001b[0m\u001b[0mbrake\u001b[0m\u001b[1;33m]\u001b[0m\u001b[1;33m)\u001b[0m\u001b[1;33m\u001b[0m\u001b[0m\n",
      "\u001b[1;32m<ipython-input-4-2187b1717844>\u001b[0m in \u001b[0;36mget_Internals\u001b[1;34m(image, speed)\u001b[0m\n\u001b[0;32m     21\u001b[0m \u001b[1;31m#     print (speed_dense.shape,img_conv.shape,x.shape)\u001b[0m\u001b[1;33m\u001b[0m\u001b[1;33m\u001b[0m\u001b[0m\n\u001b[0;32m     22\u001b[0m     \u001b[1;31m## Concatinating both speed and extracted images\u001b[0m\u001b[1;33m\u001b[0m\u001b[1;33m\u001b[0m\u001b[0m\n\u001b[1;32m---> 23\u001b[1;33m     \u001b[0mx\u001b[0m \u001b[1;33m=\u001b[0m \u001b[0mconcatenate\u001b[0m\u001b[1;33m(\u001b[0m\u001b[1;33m[\u001b[0m\u001b[0mimg_conv\u001b[0m\u001b[1;33m,\u001b[0m\u001b[0mspeed_dense\u001b[0m\u001b[1;33m]\u001b[0m\u001b[1;33m)\u001b[0m\u001b[1;33m\u001b[0m\u001b[0m\n\u001b[0m\u001b[0;32m     24\u001b[0m \u001b[1;33m\u001b[0m\u001b[0m\n\u001b[0;32m     25\u001b[0m     \u001b[1;31m# Steering\u001b[0m\u001b[1;33m\u001b[0m\u001b[1;33m\u001b[0m\u001b[0m\n",
      "\u001b[1;31mValueError\u001b[0m: zero-dimensional arrays cannot be concatenated"
     ]
    }
   ],
   "source": [
    "# # define PilotNet model, with batch normalization included.\n",
    "def get_Internals(image,speed):\n",
    "    x = BatchNormalization()(image)\n",
    "    x = conv3d_layer(x,24, kernel_size=5, strides=(1,2,2))\n",
    "    x = conv3d_layer(x,36, kernel_size=5, strides=(1,2,2))\n",
    "    x = conv3d_layer(x,48, kernel_size=5, strides=(1,2,2))\n",
    "    x = conv3d_layer(x,64, kernel_size=3, strides=1, padding = 'valid')\n",
    "    x = conv3d_layer(x,64, kernel_size=3, strides=1, padding = 'valid')\n",
    "\n",
    "    img_conv = Flatten()(x)\n",
    "    \n",
    "    ## pass speed through some fully connected layers\n",
    "    speed_dense = Dense(128)(speed)\n",
    "    speed_dense = BatchNormalization()(speed_dense)\n",
    "    speed_dense = Activation('relu')(speed_dense)\n",
    "    \n",
    "    speed_dense = Dense(128)(speed_dense)\n",
    "    speed_dense = BatchNormalization()(speed_dense)\n",
    "    speed_dense = Activation('relu')(speed_dense)\n",
    "    \n",
    "#     print (speed_dense.shape,img_conv.shape,x.shape)\n",
    "    ## Concatinating both speed and extracted images\n",
    "    x = concatenate([img_conv,speed_dense])\n",
    "    \n",
    "    # Steering\n",
    "    x_steer = Dense(100)(x)\n",
    "    x_steer = BatchNormalization()(x_steer)\n",
    "    x_steer = Activation('relu')(x_steer)\n",
    "    \n",
    "    x_steer = Dense(50)(x_steer)\n",
    "    x_steer = BatchNormalization()(x_steer)\n",
    "    x_steer = Activation('relu')(x_steer)\n",
    "    \n",
    "    x_steer = Dense(10, activation='relu')(x_steer)\n",
    "    x_steer = BatchNormalization()(x_steer)\n",
    "    x_steer = Activation('relu')(x_steer)\n",
    "    \n",
    "    steering = Dense(1, name='steering')(x_steer)\n",
    "    \n",
    "    # Brake\n",
    "    x_brake = Dense(100)(x)\n",
    "    x_brake = BatchNormalization()(x_brake)\n",
    "    x_brake = Activation('relu')(x_brake)\n",
    "    \n",
    "    x_brake = Dense(50)(x_brake)\n",
    "    x_brake = BatchNormalization()(x_brake)\n",
    "    x_brake = Activation('relu')(x_brake)\n",
    "    \n",
    "    x_brake = Dense(10)(x_brake)\n",
    "    x_brake = BatchNormalization()(x_brake)\n",
    "    x_brake = Activation('relu')(x_brake)\n",
    "    \n",
    "    brake = Dense(2, name='brake', activation = 'softmax')(x_brake)\n",
    "    \n",
    "    # Throttle\n",
    "    x_throttle = Dense(100)(x)\n",
    "    x_throttle = BatchNormalization()(x_throttle)\n",
    "    x_throttle = Activation('relu')(x_throttle)\n",
    "    \n",
    "    x_throttle = Dense(50)(x_throttle)\n",
    "    x_throttle = BatchNormalization()(x_throttle)\n",
    "    x_throttle = Activation('relu')(x_throttle)\n",
    "    \n",
    "    x_throttle = Dense(10)(x_throttle)\n",
    "    x_throttle = BatchNormalization()(x_throttle)\n",
    "    x_throttle = Activation('relu')(x_throttle)\n",
    "    \n",
    "    throttle = Dense(3, name='throttle', activation = 'softmax')(x_throttle)\n",
    "    \n",
    "    return steering,throttle,brake \n",
    "\n",
    "inp_rgb = Input(shape=(9,88,200,3), name='rgb')\n",
    "inp_speed = Input(shape=(1,), name= 'speed')\n",
    "steering,throttle,brake = get_Internals(inp_rgb,inp_speed)\n",
    "\n",
    "model = Model(inputs=[inp_rgb,inp_speed], outputs=[steering,throttle,brake])\n",
    "adam = Adam(lr = 1e-3)\n",
    "\n",
    "model.compile(optimizer=adam, loss={'steering':'mse','throttle':'sparse_categorical_crossentropy',\n",
    "                                    'brake':'sparse_categorical_crossentropy'},\n",
    "              metrics={'steering':'mae', 'throttle':'accuracy','brake':'accuracy'}) \n",
    "model.summary()"
   ]
  },
  {
   "cell_type": "code",
   "execution_count": 13,
   "metadata": {},
   "outputs": [
    {
     "name": "stdout",
     "output_type": "stream",
     "text": [
      "421\n"
     ]
    }
   ],
   "source": [
    "batch_size = 1024\n",
    "total_images = 432000\n",
    "num_batches = int(math.ceil(total_images/batch_size))\n",
    "print (num_batches)"
   ]
  },
  {
   "cell_type": "code",
   "execution_count": 21,
   "metadata": {
    "collapsed": true
   },
   "outputs": [],
   "source": [
    "model_filename= os.path.join('model_checkpoints', 'model.{epoch:03d}-{loss:.4f}.h5')\n",
    "checkpoint = ModelCheckpoint(model_filename,monitor='loss',verbose=0,save_best_only=True)\n",
    "stopping = EarlyStopping(monitor='loss', min_delta=0.00015, patience=10, verbose=1, mode='min')"
   ]
  },
  {
   "cell_type": "code",
   "execution_count": 29,
   "metadata": {
    "collapsed": true
   },
   "outputs": [],
   "source": [
    "labels.iloc[(labels.iloc[:,1]==0.5).values,1]=2"
   ]
  },
  {
   "cell_type": "code",
   "execution_count": 37,
   "metadata": {
    "collapsed": true
   },
   "outputs": [],
   "source": [
    "labels.throttle = labels.throttle.astype(int)\n",
    "labels.brake = labels.brake.astype(int)"
   ]
  },
  {
   "cell_type": "code",
   "execution_count": 58,
   "metadata": {},
   "outputs": [
    {
     "name": "stdout",
     "output_type": "stream",
     "text": [
      "__________________________________________________________________________________________________\n",
      "Layer (type)                    Output Shape         Param #     Connected to                     \n",
      "==================================================================================================\n",
      "rgb (InputLayer)                (None, 88, 200, 3)   0                                            \n",
      "__________________________________________________________________________________________________\n",
      "batch_normalization_1 (BatchNor (None, 88, 200, 3)   12          rgb[0][0]                        \n",
      "__________________________________________________________________________________________________\n",
      "conv2d_1 (Conv2D)               (None, 42, 98, 24)   1824        batch_normalization_1[0][0]      \n",
      "__________________________________________________________________________________________________\n",
      "batch_normalization_2 (BatchNor (None, 42, 98, 24)   96          conv2d_1[0][0]                   \n",
      "__________________________________________________________________________________________________\n",
      "dropout_1 (Dropout)             (None, 42, 98, 24)   0           batch_normalization_2[0][0]      \n",
      "__________________________________________________________________________________________________\n",
      "activation_1 (Activation)       (None, 42, 98, 24)   0           dropout_1[0][0]                  \n",
      "__________________________________________________________________________________________________\n",
      "conv2d_2 (Conv2D)               (None, 19, 47, 36)   21636       activation_1[0][0]               \n",
      "__________________________________________________________________________________________________\n",
      "batch_normalization_3 (BatchNor (None, 19, 47, 36)   144         conv2d_2[0][0]                   \n",
      "__________________________________________________________________________________________________\n",
      "dropout_2 (Dropout)             (None, 19, 47, 36)   0           batch_normalization_3[0][0]      \n",
      "__________________________________________________________________________________________________\n",
      "activation_2 (Activation)       (None, 19, 47, 36)   0           dropout_2[0][0]                  \n",
      "__________________________________________________________________________________________________\n",
      "conv2d_3 (Conv2D)               (None, 8, 22, 48)    43248       activation_2[0][0]               \n",
      "__________________________________________________________________________________________________\n",
      "batch_normalization_4 (BatchNor (None, 8, 22, 48)    192         conv2d_3[0][0]                   \n",
      "__________________________________________________________________________________________________\n",
      "dropout_3 (Dropout)             (None, 8, 22, 48)    0           batch_normalization_4[0][0]      \n",
      "__________________________________________________________________________________________________\n",
      "activation_3 (Activation)       (None, 8, 22, 48)    0           dropout_3[0][0]                  \n",
      "__________________________________________________________________________________________________\n",
      "conv2d_4 (Conv2D)               (None, 6, 20, 64)    27712       activation_3[0][0]               \n",
      "__________________________________________________________________________________________________\n",
      "batch_normalization_5 (BatchNor (None, 6, 20, 64)    256         conv2d_4[0][0]                   \n",
      "__________________________________________________________________________________________________\n",
      "dropout_4 (Dropout)             (None, 6, 20, 64)    0           batch_normalization_5[0][0]      \n",
      "__________________________________________________________________________________________________\n",
      "speed (InputLayer)              (None, 1)            0                                            \n",
      "__________________________________________________________________________________________________\n",
      "activation_4 (Activation)       (None, 6, 20, 64)    0           dropout_4[0][0]                  \n",
      "__________________________________________________________________________________________________\n",
      "dense_1 (Dense)                 (None, 128)          256         speed[0][0]                      \n",
      "__________________________________________________________________________________________________\n",
      "conv2d_5 (Conv2D)               (None, 4, 18, 64)    36928       activation_4[0][0]               \n",
      "__________________________________________________________________________________________________\n",
      "batch_normalization_7 (BatchNor (None, 128)          512         dense_1[0][0]                    \n",
      "__________________________________________________________________________________________________\n",
      "batch_normalization_6 (BatchNor (None, 4, 18, 64)    256         conv2d_5[0][0]                   \n",
      "__________________________________________________________________________________________________\n",
      "activation_6 (Activation)       (None, 128)          0           batch_normalization_7[0][0]      \n",
      "__________________________________________________________________________________________________\n",
      "dropout_5 (Dropout)             (None, 4, 18, 64)    0           batch_normalization_6[0][0]      \n",
      "__________________________________________________________________________________________________\n",
      "dense_2 (Dense)                 (None, 128)          16512       activation_6[0][0]               \n",
      "__________________________________________________________________________________________________\n",
      "activation_5 (Activation)       (None, 4, 18, 64)    0           dropout_5[0][0]                  \n",
      "__________________________________________________________________________________________________\n",
      "batch_normalization_8 (BatchNor (None, 128)          512         dense_2[0][0]                    \n",
      "__________________________________________________________________________________________________\n",
      "flatten_1 (Flatten)             (None, 4608)         0           activation_5[0][0]               \n",
      "__________________________________________________________________________________________________\n",
      "activation_7 (Activation)       (None, 128)          0           batch_normalization_8[0][0]      \n",
      "__________________________________________________________________________________________________\n",
      "concatenate_1 (Concatenate)     (None, 4736)         0           flatten_1[0][0]                  \n",
      "                                                                 activation_7[0][0]               \n",
      "__________________________________________________________________________________________________\n",
      "dense_3 (Dense)                 (None, 100)          473700      concatenate_1[0][0]              \n",
      "__________________________________________________________________________________________________\n",
      "dense_9 (Dense)                 (None, 100)          473700      concatenate_1[0][0]              \n",
      "__________________________________________________________________________________________________\n",
      "dense_6 (Dense)                 (None, 100)          473700      concatenate_1[0][0]              \n",
      "__________________________________________________________________________________________________\n",
      "batch_normalization_9 (BatchNor (None, 100)          400         dense_3[0][0]                    \n",
      "__________________________________________________________________________________________________\n",
      "batch_normalization_15 (BatchNo (None, 100)          400         dense_9[0][0]                    \n",
      "__________________________________________________________________________________________________\n",
      "batch_normalization_12 (BatchNo (None, 100)          400         dense_6[0][0]                    \n",
      "__________________________________________________________________________________________________\n",
      "activation_8 (Activation)       (None, 100)          0           batch_normalization_9[0][0]      \n",
      "__________________________________________________________________________________________________\n",
      "activation_14 (Activation)      (None, 100)          0           batch_normalization_15[0][0]     \n",
      "__________________________________________________________________________________________________\n",
      "activation_11 (Activation)      (None, 100)          0           batch_normalization_12[0][0]     \n",
      "__________________________________________________________________________________________________\n",
      "dense_4 (Dense)                 (None, 50)           5050        activation_8[0][0]               \n",
      "__________________________________________________________________________________________________\n",
      "dense_10 (Dense)                (None, 50)           5050        activation_14[0][0]              \n",
      "__________________________________________________________________________________________________\n",
      "dense_7 (Dense)                 (None, 50)           5050        activation_11[0][0]              \n",
      "__________________________________________________________________________________________________\n",
      "batch_normalization_10 (BatchNo (None, 50)           200         dense_4[0][0]                    \n",
      "__________________________________________________________________________________________________\n",
      "batch_normalization_16 (BatchNo (None, 50)           200         dense_10[0][0]                   \n",
      "__________________________________________________________________________________________________\n",
      "batch_normalization_13 (BatchNo (None, 50)           200         dense_7[0][0]                    \n",
      "__________________________________________________________________________________________________\n",
      "activation_9 (Activation)       (None, 50)           0           batch_normalization_10[0][0]     \n",
      "__________________________________________________________________________________________________\n",
      "activation_15 (Activation)      (None, 50)           0           batch_normalization_16[0][0]     \n",
      "__________________________________________________________________________________________________\n",
      "activation_12 (Activation)      (None, 50)           0           batch_normalization_13[0][0]     \n",
      "__________________________________________________________________________________________________\n",
      "dense_5 (Dense)                 (None, 10)           510         activation_9[0][0]               \n",
      "__________________________________________________________________________________________________\n",
      "dense_11 (Dense)                (None, 10)           510         activation_15[0][0]              \n",
      "__________________________________________________________________________________________________\n",
      "dense_8 (Dense)                 (None, 10)           510         activation_12[0][0]              \n",
      "__________________________________________________________________________________________________\n",
      "batch_normalization_11 (BatchNo (None, 10)           40          dense_5[0][0]                    \n",
      "__________________________________________________________________________________________________\n",
      "batch_normalization_17 (BatchNo (None, 10)           40          dense_11[0][0]                   \n",
      "__________________________________________________________________________________________________\n",
      "batch_normalization_14 (BatchNo (None, 10)           40          dense_8[0][0]                    \n",
      "__________________________________________________________________________________________________\n",
      "activation_10 (Activation)      (None, 10)           0           batch_normalization_11[0][0]     \n",
      "__________________________________________________________________________________________________\n",
      "activation_16 (Activation)      (None, 10)           0           batch_normalization_17[0][0]     \n",
      "__________________________________________________________________________________________________\n",
      "activation_13 (Activation)      (None, 10)           0           batch_normalization_14[0][0]     \n",
      "__________________________________________________________________________________________________\n",
      "steering (Dense)                (None, 1)            11          activation_10[0][0]              \n",
      "__________________________________________________________________________________________________\n",
      "throttle (Dense)                (None, 3)            33          activation_16[0][0]              \n",
      "__________________________________________________________________________________________________\n",
      "brake (Dense)                   (None, 2)            22          activation_13[0][0]              \n",
      "==================================================================================================\n",
      "Total params: 1,589,862\n",
      "Trainable params: 1,587,912\n",
      "Non-trainable params: 1,950\n",
      "__________________________________________________________________________________________________\n"
     ]
    }
   ],
   "source": [
    "model.summary()"
   ]
  },
  {
   "cell_type": "code",
   "execution_count": 38,
   "metadata": {},
   "outputs": [
    {
     "data": {
      "text/html": [
       "<div>\n",
       "<style>\n",
       "    .dataframe thead tr:only-child th {\n",
       "        text-align: right;\n",
       "    }\n",
       "\n",
       "    .dataframe thead th {\n",
       "        text-align: left;\n",
       "    }\n",
       "\n",
       "    .dataframe tbody tr th {\n",
       "        vertical-align: top;\n",
       "    }\n",
       "</style>\n",
       "<table border=\"1\" class=\"dataframe\">\n",
       "  <thead>\n",
       "    <tr style=\"text-align: right;\">\n",
       "      <th></th>\n",
       "      <th>steer</th>\n",
       "      <th>throttle</th>\n",
       "      <th>brake</th>\n",
       "      <th>speed</th>\n",
       "    </tr>\n",
       "  </thead>\n",
       "  <tbody>\n",
       "    <tr>\n",
       "      <th>0</th>\n",
       "      <td>-0.000238</td>\n",
       "      <td>1</td>\n",
       "      <td>0</td>\n",
       "      <td>0.000000e+00</td>\n",
       "    </tr>\n",
       "    <tr>\n",
       "      <th>1</th>\n",
       "      <td>-0.000239</td>\n",
       "      <td>1</td>\n",
       "      <td>0</td>\n",
       "      <td>2.548699e-09</td>\n",
       "    </tr>\n",
       "    <tr>\n",
       "      <th>2</th>\n",
       "      <td>-0.000239</td>\n",
       "      <td>1</td>\n",
       "      <td>0</td>\n",
       "      <td>5.095700e-09</td>\n",
       "    </tr>\n",
       "    <tr>\n",
       "      <th>3</th>\n",
       "      <td>-0.000239</td>\n",
       "      <td>1</td>\n",
       "      <td>0</td>\n",
       "      <td>7.641002e-09</td>\n",
       "    </tr>\n",
       "    <tr>\n",
       "      <th>4</th>\n",
       "      <td>-0.000239</td>\n",
       "      <td>1</td>\n",
       "      <td>0</td>\n",
       "      <td>1.018461e-08</td>\n",
       "    </tr>\n",
       "  </tbody>\n",
       "</table>\n",
       "</div>"
      ],
      "text/plain": [
       "      steer  throttle  brake         speed\n",
       "0 -0.000238         1      0  0.000000e+00\n",
       "1 -0.000239         1      0  2.548699e-09\n",
       "2 -0.000239         1      0  5.095700e-09\n",
       "3 -0.000239         1      0  7.641002e-09\n",
       "4 -0.000239         1      0  1.018461e-08"
      ]
     },
     "execution_count": 38,
     "metadata": {},
     "output_type": "execute_result"
    }
   ],
   "source": [
    "labels.head()"
   ]
  },
  {
   "cell_type": "code",
   "execution_count": null,
   "metadata": {
    "scrolled": true
   },
   "outputs": [
    {
     "name": "stdout",
     "output_type": "stream",
     "text": [
      "Epoch 1/100\n",
      "432000/432000 [==============================] - 492s 1ms/step - loss: 0.2594 - steering_loss: 0.0131 - throttle_loss: 0.1585 - brake_loss: 0.0878 - steering_mean_absolute_error: 0.0529 - throttle_acc: 0.9417 - brake_acc: 0.9683\n",
      "Epoch 2/100\n",
      "432000/432000 [==============================] - 492s 1ms/step - loss: 0.1748 - steering_loss: 0.0082 - throttle_loss: 0.1063 - brake_loss: 0.0603 - steering_mean_absolute_error: 0.0367 - throttle_acc: 0.9613 - brake_acc: 0.9791\n",
      "Epoch 3/100\n",
      "432000/432000 [==============================] - 491s 1ms/step - loss: 0.1378 - steering_loss: 0.0063 - throttle_loss: 0.0834 - brake_loss: 0.0482 - steering_mean_absolute_error: 0.0303 - throttle_acc: 0.9700 - brake_acc: 0.9836\n",
      "Epoch 4/100\n",
      "198656/432000 [============>.................] - ETA: 4:26 - loss: 0.1154 - steering_loss: 0.0054 - throttle_loss: 0.0699 - brake_loss: 0.0401 - steering_mean_absolute_error: 0.0277 - throttle_acc: 0.9749 - brake_acc: 0.9868"
     ]
    }
   ],
   "source": [
    "history = model.fit({'rgb':x_train, 'speed':labels.speed.values.reshape((-1,1))},\n",
    "                    {'steering':labels.steer.values.reshape((-1,1))*3.0,'throttle':labels.throttle.values.reshape((-1,1)),\n",
    "                     'brake':labels.brake.values.reshape((-1,1))}, batch_size=batch_size, epochs=100, callbacks=[checkpoint, stopping])"
   ]
  },
  {
   "cell_type": "code",
   "execution_count": null,
   "metadata": {
    "collapsed": true
   },
   "outputs": [],
   "source": [
    "plt.plot(np.arange(len(history.history['loss'])),history.history['loss'],color= 'r',label = 'Loss')\n",
    "plt.legend()"
   ]
  },
  {
   "cell_type": "code",
   "execution_count": null,
   "metadata": {
    "collapsed": true,
    "scrolled": true
   },
   "outputs": [],
   "source": [
    "plt.plot(np.arange(len(history.history['loss'])),history.history['mean_absolute_error'],color= 'b',label = 'Mean Absolute Error')\n",
    "plt.legend()"
   ]
  }
 ],
 "metadata": {
  "kernelspec": {
   "display_name": "Python 3",
   "language": "python",
   "name": "python3"
  },
  "language_info": {
   "codemirror_mode": {
    "name": "ipython",
    "version": 3
   },
   "file_extension": ".py",
   "mimetype": "text/x-python",
   "name": "python",
   "nbconvert_exporter": "python",
   "pygments_lexer": "ipython3",
   "version": "3.6.1"
  }
 },
 "nbformat": 4,
 "nbformat_minor": 2
}
