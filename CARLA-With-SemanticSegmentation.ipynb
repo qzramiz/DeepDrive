{
 "cells": [
  {
   "cell_type": "code",
   "execution_count": 1,
   "metadata": {
    "scrolled": true
   },
   "outputs": [
    {
     "name": "stderr",
     "output_type": "stream",
     "text": [
      "Using TensorFlow backend.\n"
     ]
    }
   ],
   "source": [
    "import numpy as np\n",
    "# import cv2\n",
    "import pandas as pd\n",
    "import os\n",
    "import math\n",
    "\n",
    "import tensorflow as tf\n",
    "\n",
    "from keras.utils import Sequence\n",
    "from keras.layers import Input, Flatten, Dense, BatchNormalization, Conv2D, Conv2DTranspose, Dropout, concatenate, Activation, Reshape, Permute, merge\n",
    "from keras.models import Model\n",
    "from keras.optimizers import Adam\n",
    "from keras.callbacks import ModelCheckpoint, EarlyStopping\n",
    "from tqdm import tqdm\n",
    "import cv2\n",
    "#%pylab inline"
   ]
  },
  {
   "cell_type": "markdown",
   "metadata": {},
   "source": [
    "# Loading Data"
   ]
  },
  {
   "cell_type": "code",
   "execution_count": 2,
   "metadata": {},
   "outputs": [
    {
     "name": "stdout",
     "output_type": "stream",
     "text": [
      "432000\n",
      "CPU times: user 2.71 s, sys: 495 ms, total: 3.2 s\n",
      "Wall time: 6.28 s\n"
     ]
    }
   ],
   "source": [
    "%%time\n",
    "initial_path = './images/'\n",
    "X = []\n",
    "for directory in sorted(os.listdir(initial_path)):\n",
    "    path = initial_path + directory + '/Camera/RGB/'\n",
    "    for image in sorted(os.listdir(path)):\n",
    "        X.append(os.path.abspath(path+image))\n",
    "print (len(X))"
   ]
  },
  {
   "cell_type": "code",
   "execution_count": 3,
   "metadata": {},
   "outputs": [
    {
     "name": "stdout",
     "output_type": "stream",
     "text": [
      "432000\n",
      "CPU times: user 2.76 s, sys: 339 ms, total: 3.1 s\n",
      "Wall time: 3.13 s\n"
     ]
    }
   ],
   "source": [
    "%%time\n",
    "initial_path = './images/'\n",
    "X_seg = []\n",
    "for directory in sorted(os.listdir(initial_path)):\n",
    "    path = initial_path + directory + '/Camera/SemanticSegmentation/'\n",
    "    for image in sorted(os.listdir(path)):\n",
    "        X_seg.append(os.path.abspath(path+image))\n",
    "print (len(X_seg))"
   ]
  },
  {
   "cell_type": "markdown",
   "metadata": {},
   "source": [
    "# Reading Labels"
   ]
  },
  {
   "cell_type": "code",
   "execution_count": 4,
   "metadata": {},
   "outputs": [
    {
     "name": "stdout",
     "output_type": "stream",
     "text": [
      "(432000, 4)\n"
     ]
    },
    {
     "data": {
      "text/html": [
       "<div>\n",
       "<style>\n",
       "    .dataframe thead tr:only-child th {\n",
       "        text-align: right;\n",
       "    }\n",
       "\n",
       "    .dataframe thead th {\n",
       "        text-align: left;\n",
       "    }\n",
       "\n",
       "    .dataframe tbody tr th {\n",
       "        vertical-align: top;\n",
       "    }\n",
       "</style>\n",
       "<table border=\"1\" class=\"dataframe\">\n",
       "  <thead>\n",
       "    <tr style=\"text-align: right;\">\n",
       "      <th></th>\n",
       "      <th>steer</th>\n",
       "      <th>throttle</th>\n",
       "      <th>brake</th>\n",
       "      <th>speed</th>\n",
       "    </tr>\n",
       "  </thead>\n",
       "  <tbody>\n",
       "    <tr>\n",
       "      <th>0</th>\n",
       "      <td>-0.000238</td>\n",
       "      <td>1.0</td>\n",
       "      <td>0.0</td>\n",
       "      <td>0.000000e+00</td>\n",
       "    </tr>\n",
       "    <tr>\n",
       "      <th>1</th>\n",
       "      <td>-0.000239</td>\n",
       "      <td>1.0</td>\n",
       "      <td>0.0</td>\n",
       "      <td>2.548699e-09</td>\n",
       "    </tr>\n",
       "    <tr>\n",
       "      <th>2</th>\n",
       "      <td>-0.000239</td>\n",
       "      <td>1.0</td>\n",
       "      <td>0.0</td>\n",
       "      <td>5.095700e-09</td>\n",
       "    </tr>\n",
       "    <tr>\n",
       "      <th>3</th>\n",
       "      <td>-0.000239</td>\n",
       "      <td>1.0</td>\n",
       "      <td>0.0</td>\n",
       "      <td>7.641002e-09</td>\n",
       "    </tr>\n",
       "    <tr>\n",
       "      <th>4</th>\n",
       "      <td>-0.000239</td>\n",
       "      <td>1.0</td>\n",
       "      <td>0.0</td>\n",
       "      <td>1.018461e-08</td>\n",
       "    </tr>\n",
       "  </tbody>\n",
       "</table>\n",
       "</div>"
      ],
      "text/plain": [
       "      steer  throttle  brake         speed\n",
       "0 -0.000238       1.0    0.0  0.000000e+00\n",
       "1 -0.000239       1.0    0.0  2.548699e-09\n",
       "2 -0.000239       1.0    0.0  5.095700e-09\n",
       "3 -0.000239       1.0    0.0  7.641002e-09\n",
       "4 -0.000239       1.0    0.0  1.018461e-08"
      ]
     },
     "execution_count": 4,
     "metadata": {},
     "output_type": "execute_result"
    }
   ],
   "source": [
    "labels = pd.read_csv(\"target_values.csv\", header=None, names=['frame','steer','throttle','brake','speed'])\n",
    "labels.drop(['frame'],axis=1,inplace=True)\n",
    "print (labels.shape)\n",
    "labels.head()"
   ]
  },
  {
   "cell_type": "code",
   "execution_count": 5,
   "metadata": {
    "collapsed": true
   },
   "outputs": [],
   "source": [
    "labels.iloc[(labels.iloc[:,1]==0.5).values,1]=2"
   ]
  },
  {
   "cell_type": "code",
   "execution_count": 6,
   "metadata": {
    "collapsed": true
   },
   "outputs": [],
   "source": [
    "labels.throttle = labels.throttle.astype(int)\n",
    "labels.brake = labels.brake.astype(int)"
   ]
  },
  {
   "cell_type": "markdown",
   "metadata": {},
   "source": [
    "# Reading all images"
   ]
  },
  {
   "cell_type": "code",
   "execution_count": 7,
   "metadata": {
    "collapsed": true
   },
   "outputs": [],
   "source": [
    "x_train = np.zeros((432000,88,200,3), dtype='uint8')\n",
    "x_seg = np.zeros((432000,88*200,1), dtype='uint8')"
   ]
  },
  {
   "cell_type": "code",
   "execution_count": 8,
   "metadata": {},
   "outputs": [
    {
     "name": "stderr",
     "output_type": "stream",
     "text": [
      "100%|██████████| 432000/432000 [09:25<00:00, 763.35it/s]\n"
     ]
    }
   ],
   "source": [
    "for idx,x in enumerate(tqdm(X)):\n",
    "    x_train[idx] = cv2.cvtColor(cv2.imread(x),cv2.COLOR_BGR2RGB)[30:-22,:]"
   ]
  },
  {
   "cell_type": "code",
   "execution_count": 9,
   "metadata": {},
   "outputs": [
    {
     "name": "stderr",
     "output_type": "stream",
     "text": [
      "100%|██████████| 432000/432000 [04:38<00:00, 1549.48it/s]\n"
     ]
    }
   ],
   "source": [
    "for idx,x in enumerate(tqdm(X_seg)):\n",
    "    x_seg[idx] = np.load(x)[30:-22,:].reshape((-1,1))"
   ]
  },
  {
   "cell_type": "markdown",
   "metadata": {},
   "source": [
    "# Creating batches"
   ]
  },
  {
   "cell_type": "code",
   "execution_count": 10,
   "metadata": {},
   "outputs": [
    {
     "name": "stdout",
     "output_type": "stream",
     "text": [
      "1688\n"
     ]
    }
   ],
   "source": [
    "batch_size = 256\n",
    "total_images = 432000\n",
    "num_batches = int(math.ceil(float(total_images)/float(batch_size)))\n",
    "print (num_batches)"
   ]
  },
  {
   "cell_type": "code",
   "execution_count": 11,
   "metadata": {
    "collapsed": true
   },
   "outputs": [],
   "source": [
    "indexes = np.arange(432000,dtype=np.int)"
   ]
  },
  {
   "cell_type": "code",
   "execution_count": 12,
   "metadata": {
    "collapsed": true
   },
   "outputs": [],
   "source": [
    "splits = np.array_split(indexes,num_batches)"
   ]
  },
  {
   "cell_type": "markdown",
   "metadata": {},
   "source": [
    "# Creating Model"
   ]
  },
  {
   "cell_type": "code",
   "execution_count": 13,
   "metadata": {
    "collapsed": true
   },
   "outputs": [],
   "source": [
    "n_classes = 8\n",
    "\n",
    "def computeIoU(y_pred_batch, y_true_batch):\n",
    "    return np.mean(np.asarray([pixelAccuracy(y_pred_batch[i], y_true_batch[i]) for i in range(1024)])) \n",
    " \n",
    "def pixelAccuracy(y_pred, y_true):\n",
    "    y_pred = np.argmax(np.reshape(y_pred,[n_classes,88,200]),axis=0)\n",
    "    y_true = np.argmax(np.reshape(y_true,[n_classes,88,200]),axis=0)\n",
    "    y_pred = y_pred * (y_true>0)\n",
    "     \n",
    "    return 1.0 * np.sum((y_pred==y_true)*(y_true>0)) /  np.sum(y_true>0)"
   ]
  },
  {
   "cell_type": "code",
   "execution_count": 14,
   "metadata": {},
   "outputs": [
    {
     "name": "stderr",
     "output_type": "stream",
     "text": [
      "/home/qzramiz/anaconda2/lib/python2.7/site-packages/ipykernel_launcher.py:42: UserWarning: The `merge` function is deprecated and will be removed after 08/2017. Use instead layers from `keras.layers.merge`, e.g. `add`, `concatenate`, etc.\n",
      "/home/qzramiz/anaconda2/lib/python2.7/site-packages/keras/legacy/layers.py:458: UserWarning: The `Merge` layer is deprecated and will be removed after 08/2017. Use instead layers from `keras.layers.merge`, e.g. `add`, `concatenate`, etc.\n",
      "  name=name)\n",
      "/home/qzramiz/anaconda2/lib/python2.7/site-packages/ipykernel_launcher.py:50: UserWarning: The `merge` function is deprecated and will be removed after 08/2017. Use instead layers from `keras.layers.merge`, e.g. `add`, `concatenate`, etc.\n",
      "/home/qzramiz/anaconda2/lib/python2.7/site-packages/ipykernel_launcher.py:58: UserWarning: The `merge` function is deprecated and will be removed after 08/2017. Use instead layers from `keras.layers.merge`, e.g. `add`, `concatenate`, etc.\n"
     ]
    },
    {
     "name": "stdout",
     "output_type": "stream",
     "text": [
      "__________________________________________________________________________________________________\n",
      "Layer (type)                    Output Shape         Param #     Connected to                     \n",
      "==================================================================================================\n",
      "rgb (InputLayer)                (None, 88, 200, 3)   0                                            \n",
      "__________________________________________________________________________________________________\n",
      "batch_normalization_1 (BatchNor (None, 88, 200, 3)   12          rgb[0][0]                        \n",
      "__________________________________________________________________________________________________\n",
      "conv2d_1 (Conv2D)               (None, 88, 200, 24)  1824        batch_normalization_1[0][0]      \n",
      "__________________________________________________________________________________________________\n",
      "batch_normalization_2 (BatchNor (None, 88, 200, 24)  96          conv2d_1[0][0]                   \n",
      "__________________________________________________________________________________________________\n",
      "activation_1 (Activation)       (None, 88, 200, 24)  0           batch_normalization_2[0][0]      \n",
      "__________________________________________________________________________________________________\n",
      "conv2d_2 (Conv2D)               (None, 44, 100, 24)  14424       activation_1[0][0]               \n",
      "__________________________________________________________________________________________________\n",
      "batch_normalization_3 (BatchNor (None, 44, 100, 24)  96          conv2d_2[0][0]                   \n",
      "__________________________________________________________________________________________________\n",
      "activation_2 (Activation)       (None, 44, 100, 24)  0           batch_normalization_3[0][0]      \n",
      "__________________________________________________________________________________________________\n",
      "conv2d_3 (Conv2D)               (None, 44, 100, 36)  21636       activation_2[0][0]               \n",
      "__________________________________________________________________________________________________\n",
      "batch_normalization_4 (BatchNor (None, 44, 100, 36)  144         conv2d_3[0][0]                   \n",
      "__________________________________________________________________________________________________\n",
      "activation_3 (Activation)       (None, 44, 100, 36)  0           batch_normalization_4[0][0]      \n",
      "__________________________________________________________________________________________________\n",
      "conv2d_4 (Conv2D)               (None, 22, 50, 36)   32436       activation_3[0][0]               \n",
      "__________________________________________________________________________________________________\n",
      "batch_normalization_5 (BatchNor (None, 22, 50, 36)   144         conv2d_4[0][0]                   \n",
      "__________________________________________________________________________________________________\n",
      "activation_4 (Activation)       (None, 22, 50, 36)   0           batch_normalization_5[0][0]      \n",
      "__________________________________________________________________________________________________\n",
      "conv2d_5 (Conv2D)               (None, 22, 50, 48)   43248       activation_4[0][0]               \n",
      "__________________________________________________________________________________________________\n",
      "batch_normalization_6 (BatchNor (None, 22, 50, 48)   192         conv2d_5[0][0]                   \n",
      "__________________________________________________________________________________________________\n",
      "activation_5 (Activation)       (None, 22, 50, 48)   0           batch_normalization_6[0][0]      \n",
      "__________________________________________________________________________________________________\n",
      "conv2d_6 (Conv2D)               (None, 11, 25, 48)   57648       activation_5[0][0]               \n",
      "__________________________________________________________________________________________________\n",
      "batch_normalization_7 (BatchNor (None, 11, 25, 48)   192         conv2d_6[0][0]                   \n",
      "__________________________________________________________________________________________________\n",
      "activation_6 (Activation)       (None, 11, 25, 48)   0           batch_normalization_7[0][0]      \n",
      "__________________________________________________________________________________________________\n",
      "conv2d_7 (Conv2D)               (None, 11, 25, 64)   27712       activation_6[0][0]               \n",
      "__________________________________________________________________________________________________\n",
      "batch_normalization_8 (BatchNor (None, 11, 25, 64)   256         conv2d_7[0][0]                   \n",
      "__________________________________________________________________________________________________\n",
      "activation_7 (Activation)       (None, 11, 25, 64)   0           batch_normalization_8[0][0]      \n",
      "__________________________________________________________________________________________________\n",
      "conv2d_8 (Conv2D)               (None, 11, 25, 64)   36928       activation_7[0][0]               \n",
      "__________________________________________________________________________________________________\n",
      "batch_normalization_9 (BatchNor (None, 11, 25, 64)   256         conv2d_8[0][0]                   \n",
      "__________________________________________________________________________________________________\n",
      "activation_8 (Activation)       (None, 11, 25, 64)   0           batch_normalization_9[0][0]      \n",
      "__________________________________________________________________________________________________\n",
      "conv2d_transpose_1 (Conv2DTrans (None, 22, 50, 48)   76848       activation_8[0][0]               \n",
      "__________________________________________________________________________________________________\n",
      "batch_normalization_10 (BatchNo (None, 22, 50, 48)   192         conv2d_transpose_1[0][0]         \n",
      "__________________________________________________________________________________________________\n",
      "activation_9 (Activation)       (None, 22, 50, 48)   0           batch_normalization_10[0][0]     \n",
      "__________________________________________________________________________________________________\n",
      "merge_1 (Merge)                 (None, 22, 50, 96)   0           activation_5[0][0]               \n",
      "                                                                 activation_9[0][0]               \n",
      "__________________________________________________________________________________________________\n",
      "conv2d_9 (Conv2D)               (None, 22, 50, 48)   115248      merge_1[0][0]                    \n",
      "__________________________________________________________________________________________________\n",
      "batch_normalization_11 (BatchNo (None, 22, 50, 48)   192         conv2d_9[0][0]                   \n",
      "__________________________________________________________________________________________________\n",
      "activation_10 (Activation)      (None, 22, 50, 48)   0           batch_normalization_11[0][0]     \n",
      "__________________________________________________________________________________________________\n",
      "conv2d_transpose_2 (Conv2DTrans (None, 44, 100, 36)  43236       activation_10[0][0]              \n",
      "__________________________________________________________________________________________________\n",
      "speed (InputLayer)              (None, 1)            0                                            \n",
      "__________________________________________________________________________________________________\n",
      "batch_normalization_12 (BatchNo (None, 44, 100, 36)  144         conv2d_transpose_2[0][0]         \n",
      "__________________________________________________________________________________________________\n",
      "dense_1 (Dense)                 (None, 128)          256         speed[0][0]                      \n",
      "__________________________________________________________________________________________________\n",
      "activation_11 (Activation)      (None, 44, 100, 36)  0           batch_normalization_12[0][0]     \n",
      "__________________________________________________________________________________________________\n",
      "batch_normalization_16 (BatchNo (None, 128)          512         dense_1[0][0]                    \n",
      "__________________________________________________________________________________________________\n",
      "merge_2 (Merge)                 (None, 44, 100, 72)  0           activation_3[0][0]               \n",
      "                                                                 activation_11[0][0]              \n",
      "__________________________________________________________________________________________________\n",
      "activation_15 (Activation)      (None, 128)          0           batch_normalization_16[0][0]     \n",
      "__________________________________________________________________________________________________\n",
      "conv2d_10 (Conv2D)              (None, 44, 100, 36)  64836       merge_2[0][0]                    \n",
      "__________________________________________________________________________________________________\n",
      "dense_2 (Dense)                 (None, 256)          33024       activation_15[0][0]              \n",
      "__________________________________________________________________________________________________\n",
      "batch_normalization_13 (BatchNo (None, 44, 100, 36)  144         conv2d_10[0][0]                  \n",
      "__________________________________________________________________________________________________\n",
      "batch_normalization_17 (BatchNo (None, 256)          1024        dense_2[0][0]                    \n",
      "__________________________________________________________________________________________________\n",
      "activation_12 (Activation)      (None, 44, 100, 36)  0           batch_normalization_13[0][0]     \n",
      "__________________________________________________________________________________________________\n",
      "flatten_1 (Flatten)             (None, 17600)        0           activation_8[0][0]               \n",
      "__________________________________________________________________________________________________\n",
      "activation_16 (Activation)      (None, 256)          0           batch_normalization_17[0][0]     \n",
      "__________________________________________________________________________________________________\n",
      "conv2d_transpose_3 (Conv2DTrans (None, 88, 200, 24)  21624       activation_12[0][0]              \n",
      "__________________________________________________________________________________________________\n",
      "concatenate_1 (Concatenate)     (None, 17856)        0           flatten_1[0][0]                  \n",
      "                                                                 activation_16[0][0]              \n",
      "__________________________________________________________________________________________________\n",
      "batch_normalization_14 (BatchNo (None, 88, 200, 24)  96          conv2d_transpose_3[0][0]         \n",
      "__________________________________________________________________________________________________\n",
      "dense_3 (Dense)                 (None, 128)          2285696     concatenate_1[0][0]              \n",
      "__________________________________________________________________________________________________\n",
      "dense_6 (Dense)                 (None, 128)          2285696     concatenate_1[0][0]              \n",
      "__________________________________________________________________________________________________\n",
      "dense_9 (Dense)                 (None, 128)          2285696     concatenate_1[0][0]              \n",
      "__________________________________________________________________________________________________\n",
      "activation_13 (Activation)      (None, 88, 200, 24)  0           batch_normalization_14[0][0]     \n",
      "__________________________________________________________________________________________________\n",
      "batch_normalization_18 (BatchNo (None, 128)          512         dense_3[0][0]                    \n",
      "__________________________________________________________________________________________________\n",
      "batch_normalization_21 (BatchNo (None, 128)          512         dense_6[0][0]                    \n",
      "__________________________________________________________________________________________________\n",
      "batch_normalization_24 (BatchNo (None, 128)          512         dense_9[0][0]                    \n",
      "__________________________________________________________________________________________________\n",
      "merge_3 (Merge)                 (None, 88, 200, 48)  0           activation_1[0][0]               \n",
      "                                                                 activation_13[0][0]              \n",
      "__________________________________________________________________________________________________\n",
      "activation_17 (Activation)      (None, 128)          0           batch_normalization_18[0][0]     \n",
      "__________________________________________________________________________________________________\n",
      "activation_20 (Activation)      (None, 128)          0           batch_normalization_21[0][0]     \n",
      "__________________________________________________________________________________________________\n",
      "activation_23 (Activation)      (None, 128)          0           batch_normalization_24[0][0]     \n",
      "__________________________________________________________________________________________________\n",
      "conv2d_11 (Conv2D)              (None, 88, 200, 24)  28824       merge_3[0][0]                    \n",
      "__________________________________________________________________________________________________\n",
      "dense_4 (Dense)                 (None, 64)           8256        activation_17[0][0]              \n",
      "__________________________________________________________________________________________________\n",
      "dense_7 (Dense)                 (None, 64)           8256        activation_20[0][0]              \n",
      "__________________________________________________________________________________________________\n",
      "dense_10 (Dense)                (None, 64)           8256        activation_23[0][0]              \n",
      "__________________________________________________________________________________________________\n",
      "batch_normalization_15 (BatchNo (None, 88, 200, 24)  96          conv2d_11[0][0]                  \n",
      "__________________________________________________________________________________________________\n",
      "batch_normalization_19 (BatchNo (None, 64)           256         dense_4[0][0]                    \n",
      "__________________________________________________________________________________________________\n",
      "batch_normalization_22 (BatchNo (None, 64)           256         dense_7[0][0]                    \n",
      "__________________________________________________________________________________________________\n",
      "batch_normalization_25 (BatchNo (None, 64)           256         dense_10[0][0]                   \n",
      "__________________________________________________________________________________________________\n",
      "activation_14 (Activation)      (None, 88, 200, 24)  0           batch_normalization_15[0][0]     \n",
      "__________________________________________________________________________________________________\n",
      "activation_18 (Activation)      (None, 64)           0           batch_normalization_19[0][0]     \n",
      "__________________________________________________________________________________________________\n",
      "activation_21 (Activation)      (None, 64)           0           batch_normalization_22[0][0]     \n",
      "__________________________________________________________________________________________________\n",
      "activation_24 (Activation)      (None, 64)           0           batch_normalization_25[0][0]     \n",
      "__________________________________________________________________________________________________\n",
      "Last_Transpose (Conv2D)         (None, 88, 200, 8)   200         activation_14[0][0]              \n",
      "__________________________________________________________________________________________________\n",
      "dense_5 (Dense)                 (None, 8)            520         activation_18[0][0]              \n",
      "__________________________________________________________________________________________________\n",
      "dense_8 (Dense)                 (None, 8)            520         activation_21[0][0]              \n",
      "__________________________________________________________________________________________________\n",
      "dense_11 (Dense)                (None, 8)            520         activation_24[0][0]              \n",
      "__________________________________________________________________________________________________\n",
      "reshape_1 (Reshape)             (None, 8, 17600)     0           Last_Transpose[0][0]             \n",
      "__________________________________________________________________________________________________\n",
      "batch_normalization_20 (BatchNo (None, 8)            32          dense_5[0][0]                    \n",
      "__________________________________________________________________________________________________\n",
      "batch_normalization_23 (BatchNo (None, 8)            32          dense_8[0][0]                    \n",
      "__________________________________________________________________________________________________\n",
      "batch_normalization_26 (BatchNo (None, 8)            32          dense_11[0][0]                   \n",
      "__________________________________________________________________________________________________\n",
      "permute_1 (Permute)             (None, 17600, 8)     0           reshape_1[0][0]                  \n",
      "__________________________________________________________________________________________________\n",
      "activation_19 (Activation)      (None, 8)            0           batch_normalization_20[0][0]     \n",
      "__________________________________________________________________________________________________\n",
      "activation_22 (Activation)      (None, 8)            0           batch_normalization_23[0][0]     \n",
      "__________________________________________________________________________________________________\n",
      "activation_25 (Activation)      (None, 8)            0           batch_normalization_26[0][0]     \n",
      "__________________________________________________________________________________________________\n",
      "segmentation (Activation)       (None, 17600, 8)     0           permute_1[0][0]                  \n",
      "__________________________________________________________________________________________________\n",
      "throttle (Dense)                (None, 3)            27          activation_19[0][0]              \n",
      "__________________________________________________________________________________________________\n",
      "brake (Dense)                   (None, 1)            9           activation_22[0][0]              \n",
      "__________________________________________________________________________________________________\n",
      "steering (Dense)                (None, 1)            9           activation_25[0][0]              \n",
      "==================================================================================================\n",
      "Total params: 7,509,601\n",
      "Trainable params: 7,506,507\n",
      "Non-trainable params: 3,094\n",
      "__________________________________________________________________________________________________\n"
     ]
    }
   ],
   "source": [
    "def get_modified_pilotnet(image,speed):\n",
    "    x = BatchNormalization()(image)\n",
    "    #layer0\n",
    "    x = Conv2D(24, kernel_size=(5,5), strides=(1,1), padding='same', kernel_initializer='he_normal')(x)\n",
    "    x = BatchNormalization()(x)\n",
    "    x1_before = Activation('relu')(x)\n",
    "    x = Conv2D(24, kernel_size=(5,5), strides=(2,2), padding='same', kernel_initializer='he_normal')(x1_before)\n",
    "    x = BatchNormalization()(x)\n",
    "    x1 = Activation('relu')(x)\n",
    "    \n",
    "    #layer1\n",
    "    x = Conv2D(36, kernel_size=(5,5), strides=(1,1), padding='same', kernel_initializer='he_normal')(x1)\n",
    "    x = BatchNormalization()(x)\n",
    "    x2_before = Activation('relu')(x)\n",
    "    x = Conv2D(36, kernel_size=(5,5), strides=(2,2), padding='same', kernel_initializer='he_normal')(x2_before)\n",
    "    x = BatchNormalization()(x)\n",
    "    x2 = Activation('relu')(x)\n",
    "    \n",
    "    #layer2\n",
    "    x = Conv2D(48, kernel_size=(5,5), strides=(1,1), padding='same', kernel_initializer='he_normal')(x2)\n",
    "    x = BatchNormalization()(x)\n",
    "    x3_before = Activation('relu')(x)\n",
    "    x = Conv2D(48, kernel_size=(5,5), strides=(2,2), padding='same', kernel_initializer='he_normal')(x3_before)\n",
    "    x = BatchNormalization()(x)\n",
    "    x3 = Activation('relu')(x)\n",
    "    \n",
    "    #layer3\n",
    "    x = Conv2D(64, kernel_size=(3,3), strides=(1,1), padding='same', kernel_initializer='he_normal')(x3)\n",
    "    x = BatchNormalization()(x)\n",
    "    x4 = Activation('relu')(x)    \n",
    "\n",
    "    x = Conv2D(64, kernel_size=(3,3), strides=(1,1), padding='same', kernel_initializer='he_normal')(x4)\n",
    "    x = BatchNormalization()(x)\n",
    "    x5 = Activation('relu')(x)\n",
    "    \n",
    "    # upsampling starts from here\n",
    "\n",
    "    #up2\n",
    "    y = Conv2DTranspose(48, kernel_size=(5,5), strides=(2,2), padding='same', kernel_initializer='he_normal')(x5)\n",
    "    y = BatchNormalization()(y)\n",
    "    y = Activation('relu')(y)\n",
    "    y = Conv2D(48, kernel_size=(5,5), strides=(1,1), padding='same', kernel_initializer='he_normal')(merge([x3_before,y], mode = 'concat', concat_axis = 3))\n",
    "    y = BatchNormalization()(y)\n",
    "    y = Activation('relu')(y)\n",
    "    \n",
    "    #up1\n",
    "    y = Conv2DTranspose(36, kernel_size=(5,5), strides=(2,2), padding='same', kernel_initializer='he_normal')(y)\n",
    "    y = BatchNormalization()(y)\n",
    "    y = Activation('relu')(y)\n",
    "    y = Conv2D(36, kernel_size=(5,5), strides=(1,1), padding='same', kernel_initializer='he_normal')(merge([x2_before,y], mode = 'concat', concat_axis = 3))\n",
    "    y = BatchNormalization()(y)\n",
    "    y = Activation('relu')(y)\n",
    "    \n",
    "    #up0\n",
    "    y = Conv2DTranspose(24, kernel_size=(5,5), strides=(2,2), padding='same', kernel_initializer='he_normal')(y)\n",
    "    y = BatchNormalization()(y)\n",
    "    y = Activation('relu')(y)\n",
    "    y = Conv2D(24, kernel_size=(5,5), strides=(1,1), padding='same', kernel_initializer='he_normal')(merge([x1_before,y], mode = 'concat', concat_axis = 3))\n",
    "    y = BatchNormalization()(y)\n",
    "    y = Activation('relu')(y)\n",
    "    \n",
    "    y = Conv2D(n_classes, kernel_size=(1,1), padding='same', kernel_initializer='he_normal', name='Last_Transpose')(y)\n",
    "    segmentation = Reshape((n_classes, (88*200)))(y)\n",
    "    segmentation = Permute((2,1))(segmentation)\n",
    "    segmentation = Activation('softmax', name='segmentation')(segmentation)\n",
    "    \n",
    "\n",
    "    # Predicting throttle, brake and steering\n",
    "    flat = Flatten()(x5)\n",
    "    \n",
    "    dense_speed = Dense(128, kernel_initializer = 'he_normal')(speed)\n",
    "    dense_speed = BatchNormalization()(dense_speed)\n",
    "    dense_speed = Activation('relu')(dense_speed)\n",
    "    \n",
    "    dense_speed = Dense(256, kernel_initializer = 'he_normal')(dense_speed)\n",
    "    dense_speed = BatchNormalization()(dense_speed)\n",
    "    dense_speed = Activation('relu')(dense_speed)\n",
    "    \n",
    "    merged = concatenate([flat,dense_speed], axis = 1)\n",
    "    \n",
    "    dense_throttle = Dense(128, kernel_initializer = 'he_normal')(merged)\n",
    "    dense_throttle = BatchNormalization()(dense_throttle)\n",
    "    dense_throttle = Activation('relu')(dense_throttle)\n",
    "    \n",
    "    dense_throttle = Dense(64, kernel_initializer = 'he_normal')(dense_throttle)\n",
    "    dense_throttle = BatchNormalization()(dense_throttle)\n",
    "    dense_throttle = Activation('relu')(dense_throttle)\n",
    "    \n",
    "    dense_throttle = Dense(8, kernel_initializer = 'he_normal')(dense_throttle)\n",
    "    dense_throttle = BatchNormalization()(dense_throttle)\n",
    "    dense_throttle = Activation('relu')(dense_throttle)\n",
    "    \n",
    "    throttle = Dense(3, activation='softmax', kernel_initializer = 'he_normal', name = 'throttle')(dense_throttle)\n",
    "    \n",
    "    dense_brake = Dense(128, kernel_initializer = 'he_normal')(merged)\n",
    "    dense_brake = BatchNormalization()(dense_brake)\n",
    "    dense_brake = Activation('relu')(dense_brake)\n",
    "    \n",
    "    dense_brake = Dense(64, kernel_initializer = 'he_normal')(dense_brake)\n",
    "    dense_brake = BatchNormalization()(dense_brake)\n",
    "    dense_brake = Activation('relu')(dense_brake)\n",
    "    \n",
    "    dense_brake = Dense(8, kernel_initializer = 'he_normal')(dense_brake)\n",
    "    dense_brake = BatchNormalization()(dense_brake)\n",
    "    dense_brake = Activation('relu')(dense_brake)\n",
    "    \n",
    "    brake = Dense(1, activation='sigmoid', kernel_initializer = 'he_normal', name='brake')(dense_brake)\n",
    "    \n",
    "    dense_steering = Dense(128, kernel_initializer = 'he_normal')(merged)\n",
    "    dense_steering = BatchNormalization()(dense_steering)\n",
    "    dense_steering = Activation('relu')(dense_steering)\n",
    "    \n",
    "    dense_steering = Dense(64, kernel_initializer = 'he_normal')(dense_steering)\n",
    "    dense_steering = BatchNormalization()(dense_steering)\n",
    "    dense_steering = Activation('relu')(dense_steering)\n",
    "    \n",
    "    dense_steering = Dense(8, kernel_initializer = 'he_normal')(dense_steering)\n",
    "    dense_steering = BatchNormalization()(dense_steering)\n",
    "    dense_steering = Activation('relu')(dense_steering)\n",
    "    \n",
    "    steering = Dense(1, kernel_initializer = 'he_normal', name = 'steering')(dense_steering)\n",
    "    \n",
    "    model = Model(inputs = [image, speed], outputs = [segmentation, throttle, brake, steering])\n",
    "\n",
    "    model.compile(optimizer = Adam(lr = 1e-3),loss_weights={'steering':1.0, 'throttle':1.0, 'brake':1.0, 'segmentation':0.45}, loss = {'steering':'mse', 'throttle':'sparse_categorical_crossentropy', \n",
    "                                        'brake':'binary_crossentropy', 'segmentation':'sparse_categorical_crossentropy'}, \n",
    "                 metrics = {'steering':'mae', 'throttle':'accuracy', 'brake':'accuracy'})\n",
    "\n",
    "    return model\n",
    "\n",
    "image_input = Input(shape=[88,200,3],name='rgb')\n",
    "speed_input = Input(shape=[1],name='speed')\n",
    "model = get_modified_pilotnet(image_input, speed_input)\n",
    "model.summary()"
   ]
  },
  {
   "cell_type": "code",
   "execution_count": 15,
   "metadata": {
    "collapsed": true
   },
   "outputs": [],
   "source": [
    "class CarlaSequence(Sequence):\n",
    "    def __init__(self, X_train, Y_train, X_seg, batch_size, splits):\n",
    "        self.x_img, self.y, self.y_seg = X_train, Y_train, X_seg\n",
    "        self.batch_size = batch_size\n",
    "        self.splits_length = len(splits)\n",
    "        self.splits = splits\n",
    "\n",
    "    def __len__(self):\n",
    "        return self.splits_length\n",
    "\n",
    "    def __getitem__(self, idx):\n",
    "        idxes = self.splits[idx]\n",
    "        x_speed = self.y[idxes,3].reshape((-1,1))\n",
    "        y_steer = self.y[idxes,0].reshape((-1,1))\n",
    "        y_throttle = self.y[idxes,1].reshape((-1,1))\n",
    "        y_brake = self.y[idxes,2].reshape((-1,1))\n",
    "        seg = self.y_seg[idxes].flatten()\n",
    "        other_mask = np.zeros_like(seg)\n",
    "        for i in [0,1,2,3,9,11]:\n",
    "            other_mask = np.add(other_mask,seg==i)\n",
    "        seg[other_mask==1] = 0\n",
    "        seg[seg==4] = 1\n",
    "        seg[seg==5] = 2\n",
    "        seg[seg==6] = 3\n",
    "        seg[seg==7] = 4\n",
    "        seg[seg==8] = 5\n",
    "        seg[seg==10] = 6\n",
    "        seg[seg==12] = 7\n",
    "        return {'rgb':self.x_img[idxes], 'speed':x_speed}, {'steering' : y_steer*3.0, 'throttle':y_throttle, 'brake':y_brake, 'segmentation':seg.reshape((idxes.shape[0],88*200,1))}"
   ]
  },
  {
   "cell_type": "code",
   "execution_count": 16,
   "metadata": {
    "collapsed": true
   },
   "outputs": [],
   "source": [
    "train_gen = CarlaSequence(x_train,labels.values,x_seg,batch_size,splits)"
   ]
  },
  {
   "cell_type": "code",
   "execution_count": 17,
   "metadata": {},
   "outputs": [
    {
     "data": {
      "text/plain": [
       "(256, 88, 200, 3)"
      ]
     },
     "execution_count": 17,
     "metadata": {},
     "output_type": "execute_result"
    }
   ],
   "source": [
    "x_train[splits[0]].shape"
   ]
  },
  {
   "cell_type": "code",
   "execution_count": 18,
   "metadata": {},
   "outputs": [
    {
     "data": {
      "text/plain": [
       "array([0, 1, 2, 3, 4, 5, 6, 7], dtype=uint8)"
      ]
     },
     "execution_count": 18,
     "metadata": {},
     "output_type": "execute_result"
    }
   ],
   "source": [
    "np.unique(train_gen.__getitem__(0)[1]['segmentation'])"
   ]
  },
  {
   "cell_type": "code",
   "execution_count": null,
   "metadata": {
    "collapsed": true
   },
   "outputs": [],
   "source": [
    "model_filename= os.path.join('model_checkpoints', 'model.{epoch:03d}-{loss:.4f}.h5')\n",
    "checkpoint = ModelCheckpoint(model_filename,monitor='loss',verbose=0,save_best_only=True)\n",
    "stopping = EarlyStopping(monitor='loss', min_delta=0.00010, patience=10, verbose=1, mode='min')"
   ]
  },
  {
   "cell_type": "code",
   "execution_count": null,
   "metadata": {
    "scrolled": true
   },
   "outputs": [
    {
     "name": "stdout",
     "output_type": "stream",
     "text": [
      "Epoch 1/100\n",
      "  13/1688 [..............................] - ETA: 1:48:28 - loss: 0.5286 - segmentation_loss: 0.3047 - throttle_loss: 0.2387 - brake_loss: 0.1400 - steering_loss: 0.0128 - throttle_acc: 0.9111 - brake_acc: 0.9525 - steering_mean_absolute_error: 0.0700"
     ]
    }
   ],
   "source": [
    "history = model.fit_generator(train_gen,steps_per_epoch=num_batches,epochs=100,callbacks=[checkpoint,stopping], \n",
    "                               max_queue_size=32,workers=6)"
   ]
  },
  {
   "cell_type": "code",
   "execution_count": 23,
   "metadata": {
    "collapsed": true
   },
   "outputs": [],
   "source": [
    "model.save('sementic_segmentation.h5')"
   ]
  },
  {
   "cell_type": "code",
   "execution_count": 25,
   "metadata": {},
   "outputs": [
    {
     "name": "stdout",
     "output_type": "stream",
     "text": [
      "Populating the interactive namespace from numpy and matplotlib\n"
     ]
    },
    {
     "name": "stderr",
     "output_type": "stream",
     "text": [
      "/home/qzramiz/anaconda2/lib/python2.7/site-packages/IPython/core/magics/pylab.py:161: UserWarning: pylab import has clobbered these variables: ['concatenate']\n",
      "`%matplotlib` prevents importing * from pylab and numpy\n",
      "  \"\\n`%matplotlib` prevents importing * from pylab and numpy\"\n"
     ]
    }
   ],
   "source": [
    "%pylab inline"
   ]
  },
  {
   "cell_type": "code",
   "execution_count": 28,
   "metadata": {},
   "outputs": [
    {
     "data": {
      "text/plain": [
       "<matplotlib.legend.Legend at 0x7f63de6ac850>"
      ]
     },
     "execution_count": 28,
     "metadata": {},
     "output_type": "execute_result"
    },
    {
     "data": {
      "image/png": "[encoded data removed]",
      "text/plain": [
       "<matplotlib.figure.Figure at 0x7f63de6ac890>"
      ]
     },
     "metadata": {},
     "output_type": "display_data"
    }
   ],
   "source": [
    "plt.plot(np.arange(len(model.history.history['loss'])),model.history.history['loss'],color= 'r',label = 'Loss')\n",
    "plt.legend()"
   ]
  },
  {
   "cell_type": "code",
   "execution_count": 16,
   "metadata": {},
   "outputs": [
    {
     "data": {
      "text/plain": [
       "<matplotlib.legend.Legend at 0x19b51a15550>"
      ]
     },
     "execution_count": 16,
     "metadata": {},
     "output_type": "execute_result"
    },
    {
     "data": {
      "image/png": "[encoded data removed]",
      "text/plain": [
       "<matplotlib.figure.Figure at 0x19b51a155c0>"
      ]
     },
     "metadata": {},
     "output_type": "display_data"
    }
   ],
   "source": [
    "plt.plot(np.arange(len(history.history['loss'])),history.history['mean_absolute_error'],color= 'b',label = 'Mean Absolute Error')\n",
    "plt.legend()"
   ]
  }
 ],
 "metadata": {
  "kernelspec": {
   "display_name": "Python 3",
   "language": "python",
   "name": "python3"
  },
  "language_info": {
   "codemirror_mode": {
    "name": "ipython",
    "version": 3
   },
   "file_extension": ".py",
   "mimetype": "text/x-python",
   "name": "python",
   "nbconvert_exporter": "python",
   "pygments_lexer": "ipython3",
   "version": "3.6.1"
  }
 },
 "nbformat": 4,
 "nbformat_minor": 2
}
